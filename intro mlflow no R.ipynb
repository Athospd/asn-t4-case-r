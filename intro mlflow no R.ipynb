{
 "cells": [
  {
   "cell_type": "code",
   "execution_count": 0,
   "metadata": {
    "application/vnd.databricks.v1+cell": {
     "cellMetadata": {
      "byteLimit": 2048000,
      "rowLimit": 10000
     },
     "inputWidgets": {},
     "nuid": "cd5d5a72-e78e-4e9a-875c-7a2a6c101492",
     "showTitle": false,
     "tableResultSettingsMap": {},
     "title": ""
    }
   },
   "outputs": [],
   "source": [
    "library(mlflow)\n",
    "library(carrier)\n",
    "\n",
    "# Experimento do mlflow\n",
    "mlflow_set_experiment(\"/Shared/iris\")\n",
    "\n",
    "# Inicia uma run\n",
    "mlflow_start_run()\n"
   ]
  },
  {
   "cell_type": "code",
   "execution_count": 0,
   "metadata": {
    "application/vnd.databricks.v1+cell": {
     "cellMetadata": {
      "byteLimit": 2048000,
      "rowLimit": 10000
     },
     "inputWidgets": {},
     "nuid": "b2c9aaac-aae0-4e9e-a938-2d31848097e1",
     "showTitle": false,
     "tableResultSettingsMap": {},
     "title": ""
    }
   },
   "outputs": [],
   "source": [
    "\n",
    "# Modelo de regressao simples\n",
    "model <- lm(Sepal.Length ~ Sepal.Width, data = iris)\n",
    "\n",
    "# logando coisas\n",
    "mlflow_log_param(\"feature\", \"Sepal.Width\")\n",
    "mlflow_log_param(\"parametro_importante\", \"Info importante\")\n",
    "mlflow_log_metric(\"rmse\", 0.57)"
   ]
  },
  {
   "cell_type": "code",
   "execution_count": 0,
   "metadata": {
    "application/vnd.databricks.v1+cell": {
     "cellMetadata": {
      "byteLimit": 2048000,
      "rowLimit": 10000
     },
     "inputWidgets": {},
     "nuid": "56ebc28d-f816-4399-aaaf-31181af79ec9",
     "showTitle": false,
     "tableResultSettingsMap": {},
     "title": ""
    }
   },
   "outputs": [],
   "source": [
    "mlflow_log_artifact(\"ml/roc_plot.png\")"
   ]
  },
  {
   "cell_type": "code",
   "execution_count": 0,
   "metadata": {
    "application/vnd.databricks.v1+cell": {
     "cellMetadata": {
      "byteLimit": 2048000,
      "rowLimit": 10000
     },
     "inputWidgets": {},
     "nuid": "3d698d12-8821-442b-b60b-e26fcc9dc4eb",
     "showTitle": false,
     "tableResultSettingsMap": {},
     "title": ""
    }
   },
   "outputs": [],
   "source": [
    "# embrulha o escorador em uma funcao\n",
    "crate_model <- crate(\n",
    "  function(new_obs) stats::predict(model, data.frame(\"Sepal.Width\" = new_obs)),\n",
    "  model = model\n",
    ")\n",
    "\n",
    "# loga o modelo no experimento\n",
    "mlflow_log_model(\n",
    "  crate_model, \n",
    "  artifact_path = \"model\",\n",
    "  registered_model_name = \"iris_regression_model\"\n",
    ")\n",
    "\n",
    "# fecha a run ativa\n",
    "mlflow_end_run()"
   ]
  },
  {
   "cell_type": "code",
   "execution_count": 0,
   "metadata": {
    "application/vnd.databricks.v1+cell": {
     "cellMetadata": {
      "byteLimit": 2048000,
      "rowLimit": 10000
     },
     "inputWidgets": {},
     "nuid": "b2ae8c04-2ac5-4415-b692-00fb0524d15b",
     "showTitle": false,
     "tableResultSettingsMap": {},
     "title": ""
    }
   },
   "outputs": [],
   "source": [
    "# Load the model from the registry\n",
    "model_uri <- \"dbfs:/databricks/mlflow-tracking/873028316947388/27c5440f6f464d908fc88764019b86cb/artifacts/model\"\n",
    "loaded_model <- mlflow_load_model(model_uri)\n"
   ]
  },
  {
   "cell_type": "code",
   "execution_count": 0,
   "metadata": {
    "application/vnd.databricks.v1+cell": {
     "cellMetadata": {
      "byteLimit": 2048000,
      "rowLimit": 10000
     },
     "inputWidgets": {},
     "nuid": "7dd17f98-cbab-41fd-a97d-364b44a0b744",
     "showTitle": false,
     "tableResultSettingsMap": {},
     "title": ""
    }
   },
   "outputs": [],
   "source": [
    "loaded_model"
   ]
  },
  {
   "cell_type": "code",
   "execution_count": 0,
   "metadata": {
    "application/vnd.databricks.v1+cell": {
     "cellMetadata": {
      "byteLimit": 2048000,
      "rowLimit": 10000
     },
     "inputWidgets": {},
     "nuid": "fa448113-46ef-4da6-bd1d-c99a5fea66fc",
     "showTitle": false,
     "tableResultSettingsMap": {},
     "title": ""
    }
   },
   "outputs": [],
   "source": [
    "\n",
    "# Example data for prediction\n",
    "new_data <- data.frame(Sepal.Width = c(3.0, 3.5, 4.0, 10.3, NA, \"A\"))\n",
    "\n",
    "# Make predictions using the loaded model\n",
    "predictions <- mlflow_predict(model = loaded_model, data = new_data)\n",
    "print(predictions)"
   ]
  }
 ],
 "metadata": {
  "application/vnd.databricks.v1+notebook": {
   "computePreferences": null,
   "dashboards": [],
   "environmentMetadata": {
    "base_environment": "",
    "environment_version": "2"
   },
   "inputWidgetPreferences": null,
   "language": "r",
   "notebookMetadata": {
    "pythonIndentUnit": 4
   },
   "notebookName": "intro mlflow no R",
   "widgets": {}
  },
  "language_info": {
   "name": "r"
  }
 },
 "nbformat": 4,
 "nbformat_minor": 0
}
