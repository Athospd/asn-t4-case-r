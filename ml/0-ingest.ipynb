{
 "cells": [
  {
   "cell_type": "code",
   "execution_count": 0,
   "metadata": {
    "application/vnd.databricks.v1+cell": {
     "cellMetadata": {
      "byteLimit": 2048000,
      "rowLimit": 10000
     },
     "inputWidgets": {},
     "nuid": "c6dc26c7-77d4-4ad4-92bc-27bcac05f753",
     "showTitle": false,
     "tableResultSettingsMap": {},
     "title": ""
    }
   },
   "outputs": [],
   "source": [
    "%python\n",
    "%pip install py4j setuptools\n",
    "%restart_python"
   ]
  },
  {
   "cell_type": "code",
   "execution_count": 0,
   "metadata": {
    "application/vnd.databricks.v1+cell": {
     "cellMetadata": {
      "byteLimit": 2048000,
      "rowLimit": 10000
     },
     "inputWidgets": {},
     "nuid": "10a9aa64-cc09-4b3d-b9ff-8a5de57e999b",
     "showTitle": false,
     "tableResultSettingsMap": {},
     "title": ""
    }
   },
   "outputs": [],
   "source": [
    "install.packages(\"reticulate\")\n",
    "install.packages(\"sparklyr\")\n",
    "install.packages(\"pysparklyr\")\n",
    "\n",
    "library(tidyverse)\n",
    "library(sparklyr)\n",
    "library(reticulate)\n",
    "library(pysparklyr)"
   ]
  },
  {
   "cell_type": "code",
   "execution_count": 0,
   "metadata": {
    "application/vnd.databricks.v1+cell": {
     "cellMetadata": {
      "byteLimit": 2048000,
      "rowLimit": 10000
     },
     "inputWidgets": {},
     "nuid": "7c74fd0b-34b8-49fb-8275-2fdd6dcfab62",
     "showTitle": false,
     "tableResultSettingsMap": {},
     "title": ""
    }
   },
   "outputs": [],
   "source": [
    "os <- import(\"os\")\n",
    "# use_python(\"/usr/local/lib/python3.12\")\n",
    "print(os$sys$executable)\n",
    "# use_python(\"/databricks/python3/bin/python3\")"
   ]
  },
  {
   "cell_type": "code",
   "execution_count": 0,
   "metadata": {
    "application/vnd.databricks.v1+cell": {
     "cellMetadata": {
      "byteLimit": 2048000,
      "rowLimit": 10000
     },
     "inputWidgets": {},
     "nuid": "33202e57-9fd5-4c93-9226-0959d5b164df",
     "showTitle": false,
     "tableResultSettingsMap": {},
     "title": ""
    }
   },
   "outputs": [],
   "source": [
    "library(sparklyr)\n",
    "library(dplyr)\n",
    "\n",
    "# conexao\n",
    "sc <- spark_connect(method = \"databricks\")"
   ]
  },
  {
   "cell_type": "code",
   "execution_count": 0,
   "metadata": {
    "application/vnd.databricks.v1+cell": {
     "cellMetadata": {
      "byteLimit": 2048000,
      "rowLimit": 10000
     },
     "inputWidgets": {},
     "nuid": "fa2fdb12-16dd-4057-8275-e504cf39fa7f",
     "showTitle": false,
     "tableResultSettingsMap": {},
     "title": ""
    }
   },
   "outputs": [],
   "source": [
    "# exemplo de escrita de delta table\n",
    "mtcars_id <- mtcars %>% rownames_to_column(\"car_id\")\n",
    "mtcars_tbl <- copy_to(sc, mtcars_id, \"mtcars_id\", overwrite = TRUE)\n",
    "spark_write_table(mtcars_tbl, \"mtcars_id\", mode = \"overwrite\")"
   ]
  },
  {
   "cell_type": "code",
   "execution_count": 0,
   "metadata": {
    "application/vnd.databricks.v1+cell": {
     "cellMetadata": {
      "byteLimit": 2048000,
      "rowLimit": 10000
     },
     "inputWidgets": {},
     "nuid": "57d0e332-fad9-42bb-a292-b04a21b8a152",
     "showTitle": false,
     "tableResultSettingsMap": {},
     "title": ""
    }
   },
   "outputs": [],
   "source": [
    "mtcars_db <- tbl(sc, \"mtcars_id\")\n",
    "\n",
    "mtcars_db"
   ]
  },
  {
   "cell_type": "code",
   "execution_count": 0,
   "metadata": {
    "application/vnd.databricks.v1+cell": {
     "cellMetadata": {
      "byteLimit": 2048000,
      "rowLimit": 10000
     },
     "inputWidgets": {},
     "nuid": "5db1db25-d569-476b-8cdb-828dc85179af",
     "showTitle": false,
     "tableResultSettingsMap": {},
     "title": ""
    }
   },
   "outputs": [],
   "source": [
    "fs <- import(\"databricks.feature_engineering\")\n",
    "fe <- fs$FeatureEngineeringClient()\n",
    "\n",
    "mtcars_pyspark <- pysparklyr_session$table(\"default.databricks_asn.mtcars_id\")"
   ]
  },
  {
   "cell_type": "code",
   "execution_count": 0,
   "metadata": {
    "application/vnd.databricks.v1+cell": {
     "cellMetadata": {
      "byteLimit": 2048000,
      "rowLimit": 10000
     },
     "inputWidgets": {},
     "nuid": "ebabf55d-c8c9-499d-add7-bae6157b7ca0",
     "showTitle": false,
     "tableResultSettingsMap": {},
     "title": ""
    }
   },
   "outputs": [],
   "source": [
    "pyspark <- import(\"pyspark\")\n",
    "pysparklyr_session <- py$spark\n",
    "mtcars_pyspark <- pysparklyr_session$read$table(\"databricks_asn.default.mtcars_id\")\n",
    "\n",
    "fe$create_table(\n",
    "    name=\"databricks_asn.default.mtcars\",\n",
    "    primary_keys=c(\"car_id\"),\n",
    "    df=mtcars_pyspark,\n",
    "    description=\"MTCARS do R\"\n",
    ")"
   ]
  },
  {
   "cell_type": "code",
   "execution_count": 0,
   "metadata": {
    "application/vnd.databricks.v1+cell": {
     "cellMetadata": {
      "byteLimit": 2048000,
      "rowLimit": 10000
     },
     "inputWidgets": {},
     "nuid": "341ad4b9-ca77-4f86-b409-c4ac5edb4a7e",
     "showTitle": false,
     "tableResultSettingsMap": {},
     "title": ""
    }
   },
   "outputs": [],
   "source": [
    "%python\n",
    "\n",
    "spark.read.table(\"databricks_asn.default.mtcars_id\")"
   ]
  },
  {
   "cell_type": "code",
   "execution_count": 0,
   "metadata": {
    "application/vnd.databricks.v1+cell": {
     "cellMetadata": {
      "byteLimit": 2048000,
      "rowLimit": 10000
     },
     "inputWidgets": {},
     "nuid": "77ed2fe0-42e2-4ca4-9abf-2210a02c7d00",
     "showTitle": false,
     "tableResultSettingsMap": {},
     "title": ""
    }
   },
   "outputs": [],
   "source": [
    "%python\n",
    "from databricks.feature_store import FeatureStoreClient\n",
    "\n",
    "# Initialize the Feature Store client\n",
    "fs = FeatureStoreClient()\n",
    "\n",
    "# Load data into a DataFrame\n",
    "data = spark.read.format(\"csv\").option(\"header\", \"true\").load(\"/path/to/your/data.csv\")\n",
    "\n",
    "# Define the feature table name\n",
    "feature_table_name = \"your_catalog.your_schema.your_feature_table\"\n",
    "\n",
    "# Write the DataFrame to the feature store\n",
    "fs.create_table(\n",
    "    name=feature_table_name,\n",
    "    primary_keys=[\"primary_key_column\"],\n",
    "    df=data,\n",
    "    schema=data.schema,\n",
    "    description=\"Description of your feature table\"\n",
    ")"
   ]
  },
  {
   "cell_type": "code",
   "execution_count": 0,
   "metadata": {
    "application/vnd.databricks.v1+cell": {
     "cellMetadata": {},
     "inputWidgets": {},
     "nuid": "ca70b0a8-310a-437d-b175-48708d7110bf",
     "showTitle": false,
     "tableResultSettingsMap": {},
     "title": ""
    }
   },
   "outputs": [],
   "source": []
  }
 ],
 "metadata": {
  "application/vnd.databricks.v1+notebook": {
   "computePreferences": null,
   "dashboards": [],
   "environmentMetadata": {
    "base_environment": "",
    "environment_version": "2"
   },
   "inputWidgetPreferences": null,
   "language": "r",
   "notebookMetadata": {
    "mostRecentlyExecutedCommandWithImplicitDF": {
     "commandId": 366980689703652,
     "dataframes": [
      "_sqldf"
     ]
    },
    "pythonIndentUnit": 4
   },
   "notebookName": "0-ingest",
   "widgets": {}
  },
  "language_info": {
   "name": "r"
  }
 },
 "nbformat": 4,
 "nbformat_minor": 0
}
