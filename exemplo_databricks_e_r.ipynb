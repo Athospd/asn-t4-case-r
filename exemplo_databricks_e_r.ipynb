{
 "cells": [
  {
   "cell_type": "code",
   "execution_count": 0,
   "metadata": {
    "application/vnd.databricks.v1+cell": {
     "cellMetadata": {
      "batchId": -1534925710708317,
      "byteLimit": 2048000,
      "rowLimit": 10000
     },
     "inputWidgets": {},
     "nuid": "10a9aa64-cc09-4b3d-b9ff-8a5de57e999b",
     "showTitle": false,
     "tableResultSettingsMap": {},
     "title": ""
    }
   },
   "outputs": [],
   "source": [
    "install.packages(\"reticulate\")\n",
    "install.packages(\"sparklyr\")\n",
    "install.packages(\"pysparklyr\")\n",
    "\n",
    "library(tidyverse)\n",
    "library(sparklyr) # esse eh o 'pyspark' do R\n",
    "library(reticulate)\n",
    "library(pysparklyr)"
   ]
  },
  {
   "cell_type": "code",
   "execution_count": 0,
   "metadata": {
    "application/vnd.databricks.v1+cell": {
     "cellMetadata": {
      "batchId": -1534925710708317,
      "byteLimit": 2048000,
      "rowLimit": 10000
     },
     "inputWidgets": {},
     "nuid": "33202e57-9fd5-4c93-9226-0959d5b164df",
     "showTitle": false,
     "tableResultSettingsMap": {},
     "title": ""
    }
   },
   "outputs": [],
   "source": [
    "library(sparklyr)\n",
    "library(dplyr)\n",
    "\n",
    "# conexao\n",
    "sc <- spark_connect(method = \"databricks\")"
   ]
  },
  {
   "cell_type": "code",
   "execution_count": 0,
   "metadata": {
    "application/vnd.databricks.v1+cell": {
     "cellMetadata": {
      "batchId": -1534925710708317,
      "byteLimit": 2048000,
      "rowLimit": 10000
     },
     "inputWidgets": {},
     "nuid": "fa2fdb12-16dd-4057-8275-e504cf39fa7f",
     "showTitle": false,
     "tableResultSettingsMap": {},
     "title": ""
    }
   },
   "outputs": [],
   "source": [
    "# exemplo de escrita de delta table\n",
    "mtcars_id <- mtcars %>% rownames_to_column(\"car_id\")\n",
    "mtcars_tbl <- copy_to(sc, mtcars_id, \"mtcars_id\", overwrite = TRUE)\n",
    "spark_write_table(mtcars_tbl, \"mtcars_id\", mode = \"overwrite\")"
   ]
  },
  {
   "cell_type": "code",
   "execution_count": 0,
   "metadata": {
    "application/vnd.databricks.v1+cell": {
     "cellMetadata": {
      "batchId": -1534925710708317,
      "byteLimit": 2048000,
      "rowLimit": 10000
     },
     "inputWidgets": {},
     "nuid": "57d0e332-fad9-42bb-a292-b04a21b8a152",
     "showTitle": false,
     "tableResultSettingsMap": {},
     "title": ""
    }
   },
   "outputs": [],
   "source": [
    "mtcars_db <- tbl(sc, \"mtcars_id\")\n",
    "\n",
    "mtcars_db"
   ]
  },
  {
   "cell_type": "code",
   "execution_count": 0,
   "metadata": {
    "application/vnd.databricks.v1+cell": {
     "cellMetadata": {
      "byteLimit": 2048000,
      "rowLimit": 10000
     },
     "inputWidgets": {},
     "nuid": "ca70b0a8-310a-437d-b175-48708d7110bf",
     "showTitle": false,
     "tableResultSettingsMap": {},
     "title": ""
    }
   },
   "outputs": [],
   "source": [
    "mtcars_db |> \n",
    " group_by(gear) |>\n",
    " summarise(\n",
    "  hp_mean = round(mean(hp),1),\n",
    "  hp_sd = round(sd(hp), 1)\n",
    " ) |>\n",
    " display()"
   ]
  },
  {
   "cell_type": "code",
   "execution_count": 0,
   "metadata": {
    "application/vnd.databricks.v1+cell": {
     "cellMetadata": {
      "byteLimit": 2048000,
      "rowLimit": 10000
     },
     "inputWidgets": {},
     "nuid": "f351582f-1c8a-4aa7-8047-cf3d79442277",
     "showTitle": false,
     "tableResultSettingsMap": {},
     "title": ""
    }
   },
   "outputs": [],
   "source": [
    "mtcars_db |>\n",
    "ggplot(aes(x = gear)) +\n",
    "geom_bar(aes(fill = gear))"
   ]
  },
  {
   "cell_type": "code",
   "execution_count": 0,
   "metadata": {
    "application/vnd.databricks.v1+cell": {
     "cellMetadata": {
      "byteLimit": 2048000,
      "rowLimit": 10000
     },
     "inputWidgets": {},
     "nuid": "e71887ff-b69e-4d0f-af4f-164442a238a8",
     "showTitle": false,
     "tableResultSettingsMap": {},
     "title": ""
    }
   },
   "outputs": [],
   "source": [
    "sumario <- mtcars_db |> \n",
    " group_by(gear) |>\n",
    " summarise(\n",
    "  hp_mean = round(mean(hp),1),\n",
    "  hp_sd = round(sd(hp), 1)\n",
    " )\n",
    "\n",
    " spark_write_parquet(sumario, \"/Volumes/databricks_asn/default/coisas_temporarias/sumario.parquet\")"
   ]
  },
  {
   "cell_type": "code",
   "execution_count": 0,
   "metadata": {
    "application/vnd.databricks.v1+cell": {
     "cellMetadata": {
      "byteLimit": 2048000,
      "rowLimit": 10000
     },
     "inputWidgets": {},
     "nuid": "0d68d065-f41a-4399-8a07-7ee2695f2bfd",
     "showTitle": false,
     "tableResultSettingsMap": {},
     "title": ""
    }
   },
   "outputs": [],
   "source": [
    "sumario_lido <- spark_read_parquet(sc,\"/Volumes/databricks_asn/default/coisas_temporarias/sumario.parquet\")"
   ]
  },
  {
   "cell_type": "code",
   "execution_count": 0,
   "metadata": {
    "application/vnd.databricks.v1+cell": {
     "cellMetadata": {
      "byteLimit": 2048000,
      "rowLimit": 10000
     },
     "inputWidgets": {},
     "nuid": "1a3e0d59-3e9d-4604-8d9d-f6ae7529d4d7",
     "showTitle": false,
     "tableResultSettingsMap": {},
     "title": ""
    }
   },
   "outputs": [],
   "source": [
    "sumario_lido"
   ]
  }
 ],
 "metadata": {
  "application/vnd.databricks.v1+notebook": {
   "computePreferences": null,
   "dashboards": [],
   "environmentMetadata": {
    "base_environment": "",
    "environment_version": "2"
   },
   "inputWidgetPreferences": null,
   "language": "r",
   "notebookMetadata": {
    "mostRecentlyExecutedCommandWithImplicitDF": {
     "commandId": 366980689703652,
     "dataframes": [
      "_sqldf"
     ]
    },
    "pythonIndentUnit": 4
   },
   "notebookName": "exemplo_databricks_e_r",
   "widgets": {}
  },
  "language_info": {
   "name": "r"
  }
 },
 "nbformat": 4,
 "nbformat_minor": 0
}
